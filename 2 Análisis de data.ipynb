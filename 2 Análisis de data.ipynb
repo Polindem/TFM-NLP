{
 "cells": [
  {
   "cell_type": "markdown",
   "metadata": {},
   "source": [
    "## Análisis de datos obtenidos"
   ]
  },
  {
   "cell_type": "code",
   "execution_count": 1,
   "metadata": {},
   "outputs": [],
   "source": [
    "import pandas as pd \n",
    "import glob \n",
    "import os"
   ]
  },
  {
   "cell_type": "code",
   "execution_count": 4,
   "metadata": {},
   "outputs": [
    {
     "data": {
      "text/html": [
       "<div>\n",
       "<style scoped>\n",
       "    .dataframe tbody tr th:only-of-type {\n",
       "        vertical-align: middle;\n",
       "    }\n",
       "\n",
       "    .dataframe tbody tr th {\n",
       "        vertical-align: top;\n",
       "    }\n",
       "\n",
       "    .dataframe thead th {\n",
       "        text-align: right;\n",
       "    }\n",
       "</style>\n",
       "<table border=\"1\" class=\"dataframe\">\n",
       "  <thead>\n",
       "    <tr style=\"text-align: right;\">\n",
       "      <th></th>\n",
       "      <th>titulo</th>\n",
       "      <th>link</th>\n",
       "      <th>descripcion</th>\n",
       "    </tr>\n",
       "  </thead>\n",
       "  <tbody>\n",
       "    <tr>\n",
       "      <th>0</th>\n",
       "      <td>Apocalypse Now</td>\n",
       "      <td>https://www.imdb.com/title/tt0078788/?ref_=adv...</td>\n",
       "      <td>Un oficial del ejército estadounidense que sir...</td>\n",
       "    </tr>\n",
       "    <tr>\n",
       "      <th>1</th>\n",
       "      <td>El lago azul</td>\n",
       "      <td>https://www.imdb.com/title/tt0080453/?ref_=adv...</td>\n",
       "      <td>En la época victoriana, dos niños naufragan en...</td>\n",
       "    </tr>\n",
       "    <tr>\n",
       "      <th>2</th>\n",
       "      <td>Alien, el octavo pasajero</td>\n",
       "      <td>https://www.imdb.com/title/tt0078748/?ref_=adv...</td>\n",
       "      <td>La tripulación de una nave espacial comercial ...</td>\n",
       "    </tr>\n",
       "    <tr>\n",
       "      <th>3</th>\n",
       "      <td>El resplandor</td>\n",
       "      <td>https://www.imdb.com/title/tt0081505/?ref_=adv...</td>\n",
       "      <td>Una familia se dirige a un hotel aislado para ...</td>\n",
       "    </tr>\n",
       "    <tr>\n",
       "      <th>4</th>\n",
       "      <td>El Imperio contraataca</td>\n",
       "      <td>https://www.imdb.com/title/tt0080684/?ref_=adv...</td>\n",
       "      <td>Tras ser brutalmente dominados los rebeldes po...</td>\n",
       "    </tr>\n",
       "    <tr>\n",
       "      <th>...</th>\n",
       "      <td>...</td>\n",
       "      <td>...</td>\n",
       "      <td>...</td>\n",
       "    </tr>\n",
       "    <tr>\n",
       "      <th>149384</th>\n",
       "      <td>Afetname</td>\n",
       "      <td>https://www.imdb.com/title/tt19409208/?ref_=ad...</td>\n",
       "      <td>NaN</td>\n",
       "    </tr>\n",
       "    <tr>\n",
       "      <th>149385</th>\n",
       "      <td>Time provider</td>\n",
       "      <td>https://www.imdb.com/title/tt19409272/?ref_=ad...</td>\n",
       "      <td>This is adapted from a real story that happene...</td>\n",
       "    </tr>\n",
       "    <tr>\n",
       "      <th>149386</th>\n",
       "      <td>All Your Friends Are Dead</td>\n",
       "      <td>https://www.imdb.com/title/tt19409324/?ref_=ad...</td>\n",
       "      <td>NaN</td>\n",
       "    </tr>\n",
       "    <tr>\n",
       "      <th>149387</th>\n",
       "      <td>Primary Position</td>\n",
       "      <td>https://www.imdb.com/title/tt19409924/?ref_=ad...</td>\n",
       "      <td>NaN</td>\n",
       "    </tr>\n",
       "    <tr>\n",
       "      <th>149388</th>\n",
       "      <td>Vidya</td>\n",
       "      <td>https://www.imdb.com/title/tt19410472/?ref_=ad...</td>\n",
       "      <td>NaN</td>\n",
       "    </tr>\n",
       "  </tbody>\n",
       "</table>\n",
       "<p>149389 rows × 3 columns</p>\n",
       "</div>"
      ],
      "text/plain": [
       "                           titulo  \\\n",
       "0                  Apocalypse Now   \n",
       "1                    El lago azul   \n",
       "2       Alien, el octavo pasajero   \n",
       "3                   El resplandor   \n",
       "4          El Imperio contraataca   \n",
       "...                           ...   \n",
       "149384                   Afetname   \n",
       "149385              Time provider   \n",
       "149386  All Your Friends Are Dead   \n",
       "149387           Primary Position   \n",
       "149388                      Vidya   \n",
       "\n",
       "                                                     link  \\\n",
       "0       https://www.imdb.com/title/tt0078788/?ref_=adv...   \n",
       "1       https://www.imdb.com/title/tt0080453/?ref_=adv...   \n",
       "2       https://www.imdb.com/title/tt0078748/?ref_=adv...   \n",
       "3       https://www.imdb.com/title/tt0081505/?ref_=adv...   \n",
       "4       https://www.imdb.com/title/tt0080684/?ref_=adv...   \n",
       "...                                                   ...   \n",
       "149384  https://www.imdb.com/title/tt19409208/?ref_=ad...   \n",
       "149385  https://www.imdb.com/title/tt19409272/?ref_=ad...   \n",
       "149386  https://www.imdb.com/title/tt19409324/?ref_=ad...   \n",
       "149387  https://www.imdb.com/title/tt19409924/?ref_=ad...   \n",
       "149388  https://www.imdb.com/title/tt19410472/?ref_=ad...   \n",
       "\n",
       "                                              descripcion  \n",
       "0       Un oficial del ejército estadounidense que sir...  \n",
       "1       En la época victoriana, dos niños naufragan en...  \n",
       "2       La tripulación de una nave espacial comercial ...  \n",
       "3       Una familia se dirige a un hotel aislado para ...  \n",
       "4       Tras ser brutalmente dominados los rebeldes po...  \n",
       "...                                                   ...  \n",
       "149384                                                NaN  \n",
       "149385  This is adapted from a real story that happene...  \n",
       "149386                                                NaN  \n",
       "149387                                                NaN  \n",
       "149388                                                NaN  \n",
       "\n",
       "[149389 rows x 3 columns]"
      ]
     },
     "execution_count": 4,
     "metadata": {},
     "output_type": "execute_result"
    }
   ],
   "source": [
    "# ejecutamos tres datasets obtenidos por cada uno de compañeros\n",
    "movies_all = pd.read_csv('movies__Anna.csv')\n",
    "movies_all.drop('Unnamed: 0', axis=1, inplace=True)\n",
    "movies_all"
   ]
  },
  {
   "cell_type": "code",
   "execution_count": 5,
   "metadata": {},
   "outputs": [
    {
     "name": "stdout",
     "output_type": "stream",
     "text": [
      "Wall time: 1h 57min 42s\n"
     ]
    },
    {
     "data": {
      "text/html": [
       "<div>\n",
       "<style scoped>\n",
       "    .dataframe tbody tr th:only-of-type {\n",
       "        vertical-align: middle;\n",
       "    }\n",
       "\n",
       "    .dataframe tbody tr th {\n",
       "        vertical-align: top;\n",
       "    }\n",
       "\n",
       "    .dataframe thead th {\n",
       "        text-align: right;\n",
       "    }\n",
       "</style>\n",
       "<table border=\"1\" class=\"dataframe\">\n",
       "  <thead>\n",
       "    <tr style=\"text-align: right;\">\n",
       "      <th></th>\n",
       "      <th>titulo</th>\n",
       "      <th>link</th>\n",
       "      <th>descripcion</th>\n",
       "      <th>descripcion_idioma</th>\n",
       "    </tr>\n",
       "  </thead>\n",
       "  <tbody>\n",
       "    <tr>\n",
       "      <th>0</th>\n",
       "      <td>Apocalypse Now</td>\n",
       "      <td>https://www.imdb.com/title/tt0078788/?ref_=adv...</td>\n",
       "      <td>Un oficial del ejército estadounidense que sir...</td>\n",
       "      <td>es</td>\n",
       "    </tr>\n",
       "    <tr>\n",
       "      <th>1</th>\n",
       "      <td>El lago azul</td>\n",
       "      <td>https://www.imdb.com/title/tt0080453/?ref_=adv...</td>\n",
       "      <td>En la época victoriana, dos niños naufragan en...</td>\n",
       "      <td>es</td>\n",
       "    </tr>\n",
       "    <tr>\n",
       "      <th>2</th>\n",
       "      <td>Alien, el octavo pasajero</td>\n",
       "      <td>https://www.imdb.com/title/tt0078748/?ref_=adv...</td>\n",
       "      <td>La tripulación de una nave espacial comercial ...</td>\n",
       "      <td>es</td>\n",
       "    </tr>\n",
       "    <tr>\n",
       "      <th>3</th>\n",
       "      <td>El resplandor</td>\n",
       "      <td>https://www.imdb.com/title/tt0081505/?ref_=adv...</td>\n",
       "      <td>Una familia se dirige a un hotel aislado para ...</td>\n",
       "      <td>es</td>\n",
       "    </tr>\n",
       "    <tr>\n",
       "      <th>4</th>\n",
       "      <td>El Imperio contraataca</td>\n",
       "      <td>https://www.imdb.com/title/tt0080684/?ref_=adv...</td>\n",
       "      <td>Tras ser brutalmente dominados los rebeldes po...</td>\n",
       "      <td>es</td>\n",
       "    </tr>\n",
       "    <tr>\n",
       "      <th>...</th>\n",
       "      <td>...</td>\n",
       "      <td>...</td>\n",
       "      <td>...</td>\n",
       "      <td>...</td>\n",
       "    </tr>\n",
       "    <tr>\n",
       "      <th>149384</th>\n",
       "      <td>Afetname</td>\n",
       "      <td>https://www.imdb.com/title/tt19409208/?ref_=ad...</td>\n",
       "      <td>nan</td>\n",
       "      <td>tl</td>\n",
       "    </tr>\n",
       "    <tr>\n",
       "      <th>149385</th>\n",
       "      <td>Time provider</td>\n",
       "      <td>https://www.imdb.com/title/tt19409272/?ref_=ad...</td>\n",
       "      <td>This is adapted from a real story that happene...</td>\n",
       "      <td>en</td>\n",
       "    </tr>\n",
       "    <tr>\n",
       "      <th>149386</th>\n",
       "      <td>All Your Friends Are Dead</td>\n",
       "      <td>https://www.imdb.com/title/tt19409324/?ref_=ad...</td>\n",
       "      <td>nan</td>\n",
       "      <td>tl</td>\n",
       "    </tr>\n",
       "    <tr>\n",
       "      <th>149387</th>\n",
       "      <td>Primary Position</td>\n",
       "      <td>https://www.imdb.com/title/tt19409924/?ref_=ad...</td>\n",
       "      <td>nan</td>\n",
       "      <td>tl</td>\n",
       "    </tr>\n",
       "    <tr>\n",
       "      <th>149388</th>\n",
       "      <td>Vidya</td>\n",
       "      <td>https://www.imdb.com/title/tt19410472/?ref_=ad...</td>\n",
       "      <td>nan</td>\n",
       "      <td>tl</td>\n",
       "    </tr>\n",
       "  </tbody>\n",
       "</table>\n",
       "<p>149389 rows × 4 columns</p>\n",
       "</div>"
      ],
      "text/plain": [
       "                           titulo  \\\n",
       "0                  Apocalypse Now   \n",
       "1                    El lago azul   \n",
       "2       Alien, el octavo pasajero   \n",
       "3                   El resplandor   \n",
       "4          El Imperio contraataca   \n",
       "...                           ...   \n",
       "149384                   Afetname   \n",
       "149385              Time provider   \n",
       "149386  All Your Friends Are Dead   \n",
       "149387           Primary Position   \n",
       "149388                      Vidya   \n",
       "\n",
       "                                                     link  \\\n",
       "0       https://www.imdb.com/title/tt0078788/?ref_=adv...   \n",
       "1       https://www.imdb.com/title/tt0080453/?ref_=adv...   \n",
       "2       https://www.imdb.com/title/tt0078748/?ref_=adv...   \n",
       "3       https://www.imdb.com/title/tt0081505/?ref_=adv...   \n",
       "4       https://www.imdb.com/title/tt0080684/?ref_=adv...   \n",
       "...                                                   ...   \n",
       "149384  https://www.imdb.com/title/tt19409208/?ref_=ad...   \n",
       "149385  https://www.imdb.com/title/tt19409272/?ref_=ad...   \n",
       "149386  https://www.imdb.com/title/tt19409324/?ref_=ad...   \n",
       "149387  https://www.imdb.com/title/tt19409924/?ref_=ad...   \n",
       "149388  https://www.imdb.com/title/tt19410472/?ref_=ad...   \n",
       "\n",
       "                                              descripcion descripcion_idioma  \n",
       "0       Un oficial del ejército estadounidense que sir...                 es  \n",
       "1       En la época victoriana, dos niños naufragan en...                 es  \n",
       "2       La tripulación de una nave espacial comercial ...                 es  \n",
       "3       Una familia se dirige a un hotel aislado para ...                 es  \n",
       "4       Tras ser brutalmente dominados los rebeldes po...                 es  \n",
       "...                                                   ...                ...  \n",
       "149384                                                nan                 tl  \n",
       "149385  This is adapted from a real story that happene...                 en  \n",
       "149386                                                nan                 tl  \n",
       "149387                                                nan                 tl  \n",
       "149388                                                nan                 tl  \n",
       "\n",
       "[149389 rows x 4 columns]"
      ]
     },
     "execution_count": 5,
     "metadata": {},
     "output_type": "execute_result"
    }
   ],
   "source": [
    "%%time\n",
    "\n",
    "# detectamos las decripciones en inglés\n",
    "\n",
    "from langdetect import detect\n",
    "\n",
    "lang = []    \n",
    "    \n",
    "for index, row in movies_all['descripcion'].iteritems():\n",
    "    movies_all['descripcion'] = movies_all['descripcion'].apply(str)\n",
    "    try:\n",
    "        lang = detect(row) #detecting each row\n",
    "    except:\n",
    "        lang = \"error\"\n",
    "    movies_all.loc[index, 'descripcion_idioma'] = lang\n",
    "\n",
    "# guardamos el dataset con idiomas detectados\n",
    "movies_all.to_csv('movies_detect_Anna.csv', encoding='utf-8-sig')\n",
    "movies_all"
   ]
  },
  {
   "cell_type": "markdown",
   "metadata": {},
   "source": [
    "### Juntamos todos los datasets extraídos"
   ]
  },
  {
   "cell_type": "markdown",
   "metadata": {},
   "source": [
    "https://www.tutorialspoint.com/how-to-merge-all-csv-files-into-a-single-dataframe-python-pandas"
   ]
  },
  {
   "cell_type": "code",
   "execution_count": 6,
   "metadata": {},
   "outputs": [],
   "source": [
    "# establecemos la ruta para unir varios archivos\n",
    "files = os.path.join(\"movies_detect_*.csv\")"
   ]
  },
  {
   "cell_type": "code",
   "execution_count": 7,
   "metadata": {},
   "outputs": [],
   "source": [
    "# lista de archivos combinados\n",
    "files = glob.glob(files)"
   ]
  },
  {
   "cell_type": "code",
   "execution_count": 8,
   "metadata": {},
   "outputs": [],
   "source": [
    "# unimos archivos con concat y read_csv\n",
    "df = pd.concat(map(pd.read_csv, files), ignore_index=True)\n",
    "\n",
    "# eliminamos columna Unnamed: 0 para que no aparezca la numeración individual de cada archivo\n",
    "df.drop('Unnamed: 0', axis=1, inplace=True)"
   ]
  },
  {
   "cell_type": "code",
   "execution_count": 9,
   "metadata": {},
   "outputs": [],
   "source": [
    "# guardamos el archivo conjunto\n",
    "df.to_csv('movies_detect_all.csv', encoding='utf-8-sig')"
   ]
  },
  {
   "cell_type": "markdown",
   "metadata": {},
   "source": [
    "### Analizamos los datos"
   ]
  },
  {
   "cell_type": "code",
   "execution_count": 2,
   "metadata": {},
   "outputs": [
    {
     "data": {
      "text/html": [
       "<div>\n",
       "<style scoped>\n",
       "    .dataframe tbody tr th:only-of-type {\n",
       "        vertical-align: middle;\n",
       "    }\n",
       "\n",
       "    .dataframe tbody tr th {\n",
       "        vertical-align: top;\n",
       "    }\n",
       "\n",
       "    .dataframe thead th {\n",
       "        text-align: right;\n",
       "    }\n",
       "</style>\n",
       "<table border=\"1\" class=\"dataframe\">\n",
       "  <thead>\n",
       "    <tr style=\"text-align: right;\">\n",
       "      <th></th>\n",
       "      <th>titulo</th>\n",
       "      <th>link</th>\n",
       "      <th>descripcion</th>\n",
       "      <th>descripcion_idioma</th>\n",
       "    </tr>\n",
       "  </thead>\n",
       "  <tbody>\n",
       "    <tr>\n",
       "      <th>0</th>\n",
       "      <td>Apocalypse Now</td>\n",
       "      <td>https://www.imdb.com/title/tt0078788/?ref_=adv...</td>\n",
       "      <td>Un oficial del ejército estadounidense que sir...</td>\n",
       "      <td>es</td>\n",
       "    </tr>\n",
       "    <tr>\n",
       "      <th>1</th>\n",
       "      <td>El lago azul</td>\n",
       "      <td>https://www.imdb.com/title/tt0080453/?ref_=adv...</td>\n",
       "      <td>En la época victoriana, dos niños naufragan en...</td>\n",
       "      <td>es</td>\n",
       "    </tr>\n",
       "    <tr>\n",
       "      <th>2</th>\n",
       "      <td>Alien, el octavo pasajero</td>\n",
       "      <td>https://www.imdb.com/title/tt0078748/?ref_=adv...</td>\n",
       "      <td>La tripulación de una nave espacial comercial ...</td>\n",
       "      <td>es</td>\n",
       "    </tr>\n",
       "    <tr>\n",
       "      <th>3</th>\n",
       "      <td>El resplandor</td>\n",
       "      <td>https://www.imdb.com/title/tt0081505/?ref_=adv...</td>\n",
       "      <td>Una familia se dirige a un hotel aislado para ...</td>\n",
       "      <td>es</td>\n",
       "    </tr>\n",
       "    <tr>\n",
       "      <th>4</th>\n",
       "      <td>El Imperio contraataca</td>\n",
       "      <td>https://www.imdb.com/title/tt0080684/?ref_=adv...</td>\n",
       "      <td>Tras ser brutalmente dominados los rebeldes po...</td>\n",
       "      <td>es</td>\n",
       "    </tr>\n",
       "    <tr>\n",
       "      <th>...</th>\n",
       "      <td>...</td>\n",
       "      <td>...</td>\n",
       "      <td>...</td>\n",
       "      <td>...</td>\n",
       "    </tr>\n",
       "    <tr>\n",
       "      <th>404570</th>\n",
       "      <td>Kings of Boston</td>\n",
       "      <td>https://www.imdb.com/title/tt1640670/?ref_=adv...</td>\n",
       "      <td>Two wannabe gangsters happen upon a suitcase f...</td>\n",
       "      <td>en</td>\n",
       "    </tr>\n",
       "    <tr>\n",
       "      <th>404571</th>\n",
       "      <td>Bertrand beulrie Bert</td>\n",
       "      <td>https://www.imdb.com/title/tt6450002/?ref_=adv...</td>\n",
       "      <td>NaN</td>\n",
       "      <td>tl</td>\n",
       "    </tr>\n",
       "    <tr>\n",
       "      <th>404572</th>\n",
       "      <td>The Berlin Wall, Trajectory of the Fall,</td>\n",
       "      <td>https://www.imdb.com/title/tt14318624/?ref_=ad...</td>\n",
       "      <td>NaN</td>\n",
       "      <td>tl</td>\n",
       "    </tr>\n",
       "    <tr>\n",
       "      <th>404573</th>\n",
       "      <td>Kokuhaku: Nurse no Zangyo</td>\n",
       "      <td>https://www.imdb.com/title/tt2298383/?ref_=adv...</td>\n",
       "      <td>Yukiko is a nurse working at a general hospita...</td>\n",
       "      <td>en</td>\n",
       "    </tr>\n",
       "    <tr>\n",
       "      <th>404574</th>\n",
       "      <td>Los Indeseables</td>\n",
       "      <td>https://www.imdb.com/title/tt18950356/?ref_=ad...</td>\n",
       "      <td>NaN</td>\n",
       "      <td>tl</td>\n",
       "    </tr>\n",
       "  </tbody>\n",
       "</table>\n",
       "<p>404575 rows × 4 columns</p>\n",
       "</div>"
      ],
      "text/plain": [
       "                                          titulo  \\\n",
       "0                                 Apocalypse Now   \n",
       "1                                   El lago azul   \n",
       "2                      Alien, el octavo pasajero   \n",
       "3                                  El resplandor   \n",
       "4                         El Imperio contraataca   \n",
       "...                                          ...   \n",
       "404570                           Kings of Boston   \n",
       "404571                     Bertrand beulrie Bert   \n",
       "404572  The Berlin Wall, Trajectory of the Fall,   \n",
       "404573                 Kokuhaku: Nurse no Zangyo   \n",
       "404574                           Los Indeseables   \n",
       "\n",
       "                                                     link  \\\n",
       "0       https://www.imdb.com/title/tt0078788/?ref_=adv...   \n",
       "1       https://www.imdb.com/title/tt0080453/?ref_=adv...   \n",
       "2       https://www.imdb.com/title/tt0078748/?ref_=adv...   \n",
       "3       https://www.imdb.com/title/tt0081505/?ref_=adv...   \n",
       "4       https://www.imdb.com/title/tt0080684/?ref_=adv...   \n",
       "...                                                   ...   \n",
       "404570  https://www.imdb.com/title/tt1640670/?ref_=adv...   \n",
       "404571  https://www.imdb.com/title/tt6450002/?ref_=adv...   \n",
       "404572  https://www.imdb.com/title/tt14318624/?ref_=ad...   \n",
       "404573  https://www.imdb.com/title/tt2298383/?ref_=adv...   \n",
       "404574  https://www.imdb.com/title/tt18950356/?ref_=ad...   \n",
       "\n",
       "                                              descripcion descripcion_idioma  \n",
       "0       Un oficial del ejército estadounidense que sir...                 es  \n",
       "1       En la época victoriana, dos niños naufragan en...                 es  \n",
       "2       La tripulación de una nave espacial comercial ...                 es  \n",
       "3       Una familia se dirige a un hotel aislado para ...                 es  \n",
       "4       Tras ser brutalmente dominados los rebeldes po...                 es  \n",
       "...                                                   ...                ...  \n",
       "404570  Two wannabe gangsters happen upon a suitcase f...                 en  \n",
       "404571                                                NaN                 tl  \n",
       "404572                                                NaN                 tl  \n",
       "404573  Yukiko is a nurse working at a general hospita...                 en  \n",
       "404574                                                NaN                 tl  \n",
       "\n",
       "[404575 rows x 4 columns]"
      ]
     },
     "execution_count": 2,
     "metadata": {},
     "output_type": "execute_result"
    }
   ],
   "source": [
    "movies_detect = pd.read_csv('movies_detect_all.csv')\n",
    "movies_detect.drop('Unnamed: 0', axis=1, inplace=True)\n",
    "movies_detect"
   ]
  },
  {
   "cell_type": "code",
   "execution_count": 3,
   "metadata": {},
   "outputs": [],
   "source": [
    "# renombramos tl a NaN para que sea más facil\n",
    "movies_detect['descripcion_idioma'].replace({'tl':'NaN'}, inplace=True)\n",
    "#movies_detect"
   ]
  },
  {
   "cell_type": "code",
   "execution_count": 72,
   "metadata": {},
   "outputs": [
    {
     "data": {
      "text/plain": [
       "descripcion_idioma\n",
       "en       224307\n",
       "NaN      154440\n",
       "es        24873\n",
       "de          220\n",
       "fr          205\n",
       "hu          132\n",
       "it           50\n",
       "ca           45\n",
       "id           41\n",
       "da           38\n",
       "no           38\n",
       "nl           33\n",
       "pt           31\n",
       "af           24\n",
       "so           16\n",
       "vi           14\n",
       "ro           13\n",
       "fi           11\n",
       "et           11\n",
       "cy            9\n",
       "sv            6\n",
       "sw            4\n",
       "tr            4\n",
       "pl            3\n",
       "hr            2\n",
       "sk            2\n",
       "cs            1\n",
       "error         1\n",
       "lv            1\n",
       "dtype: int64"
      ]
     },
     "execution_count": 72,
     "metadata": {},
     "output_type": "execute_result"
    }
   ],
   "source": [
    "# analizamos la columna descripcion_idioma\n",
    "movies_detect_lang = movies_detect.groupby(['descripcion_idioma']).size().sort_values(ascending=False)\n",
    "movies_detect_lang"
   ]
  },
  {
   "cell_type": "code",
   "execution_count": 75,
   "metadata": {},
   "outputs": [
    {
     "data": {
      "text/plain": [
       "<matplotlib.axes._subplots.AxesSubplot at 0x1edc2f2ebb0>"
      ]
     },
     "execution_count": 75,
     "metadata": {},
     "output_type": "execute_result"
    },
    {
     "data": {
      "image/png": "[encoded data removed]",
      "text/plain": [
       "<Figure size 576x432 with 1 Axes>"
      ]
     },
     "metadata": {
      "needs_background": "light"
     },
     "output_type": "display_data"
    }
   ],
   "source": [
    "# visualizamos idiomas en el dataset\n",
    "movies_detect_lang.plot(kind='bar', figsize=(8, 6))"
   ]
  },
  {
   "cell_type": "code",
   "execution_count": 76,
   "metadata": {},
   "outputs": [
    {
     "name": "stdout",
     "output_type": "stream",
     "text": [
      "Número de películas sin descripción: 154415\n",
      "% de películas sin descripción:      38%\n"
     ]
    }
   ],
   "source": [
    "# películas sin decsripción\n",
    "count_nan = movies_detect['descripcion'].isnull().sum()\n",
    "print('Número de películas sin descripción: ' + str(count_nan))\n",
    "nan_perc = count_nan/len(movies_detect)\n",
    "print('% de películas sin descripción:      '+ str(f\"{nan_perc:.0%}\"))"
   ]
  },
  {
   "cell_type": "code",
   "execution_count": 5,
   "metadata": {},
   "outputs": [
    {
     "name": "stdout",
     "output_type": "stream",
     "text": [
      "Número de películas con la descripción en inglés: 224307\n",
      "% de películas con la descripción en inglés:      55%\n"
     ]
    }
   ],
   "source": [
    "# películas con la descripción en inglés\n",
    "count_en = movies_detect.descripcion_idioma.value_counts().en\n",
    "print('Número de películas con la descripción en inglés: ' + str(count_en))\n",
    "en_perc = count_en/len(movies_detect)\n",
    "print('% de películas con la descripción en inglés:      '+ str(f\"{en_perc:.0%}\"))"
   ]
  },
  {
   "cell_type": "code",
   "execution_count": 24,
   "metadata": {},
   "outputs": [
    {
     "name": "stdout",
     "output_type": "stream",
     "text": [
      "Número de películas con la descripción en español: 24873\n",
      "% de películas con la descripción en español:      6%\n"
     ]
    }
   ],
   "source": [
    "# películas con la descripción en español\n",
    "count_error = movies_detect.descripcion_idioma.value_counts().es\n",
    "print('Número de películas con la descripción en español: ' + str(count_error))\n",
    "error_perc = count_error/len(movies_detect)\n",
    "print('% de películas con la descripción en español:      '+ str(f\"{error_perc:.0%}\"))"
   ]
  },
  {
   "cell_type": "code",
   "execution_count": 7,
   "metadata": {},
   "outputs": [
    {
     "data": {
      "text/html": [
       "<div>\n",
       "<style scoped>\n",
       "    .dataframe tbody tr th:only-of-type {\n",
       "        vertical-align: middle;\n",
       "    }\n",
       "\n",
       "    .dataframe tbody tr th {\n",
       "        vertical-align: top;\n",
       "    }\n",
       "\n",
       "    .dataframe thead th {\n",
       "        text-align: right;\n",
       "    }\n",
       "</style>\n",
       "<table border=\"1\" class=\"dataframe\">\n",
       "  <thead>\n",
       "    <tr style=\"text-align: right;\">\n",
       "      <th></th>\n",
       "      <th>titulo</th>\n",
       "      <th>link</th>\n",
       "      <th>descripcion</th>\n",
       "      <th>descripcion_idioma</th>\n",
       "    </tr>\n",
       "  </thead>\n",
       "  <tbody>\n",
       "    <tr>\n",
       "      <th>64308</th>\n",
       "      <td>Testing Movie1</td>\n",
       "      <td>https://www.imdb.com/title/tt2418644/?ref_=adv...</td>\n",
       "      <td>👌👌👌👌👌👌👌</td>\n",
       "      <td>error</td>\n",
       "    </tr>\n",
       "  </tbody>\n",
       "</table>\n",
       "</div>"
      ],
      "text/plain": [
       "               titulo                                               link  \\\n",
       "64308  Testing Movie1  https://www.imdb.com/title/tt2418644/?ref_=adv...   \n",
       "\n",
       "      descripcion descripcion_idioma  \n",
       "64308     👌👌👌👌👌👌👌              error  "
      ]
     },
     "execution_count": 7,
     "metadata": {},
     "output_type": "execute_result"
    }
   ],
   "source": [
    "# vemos que tipo de error hay en dataset\n",
    "movies_detect.loc[movies_detect['descripcion_idioma'] == 'error']"
   ]
  },
  {
   "cell_type": "code",
   "execution_count": 57,
   "metadata": {},
   "outputs": [
    {
     "data": {
      "text/plain": [
       "(249180, 4)"
      ]
     },
     "execution_count": 57,
     "metadata": {},
     "output_type": "execute_result"
    }
   ],
   "source": [
    "# reducimos el tamaño de dataset y dejamos solamente los idiomas (español e inglés) con los que vamos a trabajar \n",
    "movies_detect_en = movies_detect.loc[movies_detect['descripcion_idioma'] == 'en']\n",
    "movies_detect_es = movies_detect.loc[movies_detect['descripcion_idioma'] == 'es']\n",
    "movies_detect_red = pd.concat([movies_detect_en, movies_detect_es])\n",
    "movies_detect_red.shape"
   ]
  },
  {
   "cell_type": "code",
   "execution_count": 60,
   "metadata": {},
   "outputs": [
    {
     "name": "stdout",
     "output_type": "stream",
     "text": [
      "% de películas con la descripción en inglés:  90%\n",
      "% de películas con la descripción en español: 10%\n"
     ]
    }
   ],
   "source": [
    "# películas con la descripción en inglés y español en el dataset reducido\n",
    "print('% de películas con la descripción en inglés:  '+ str(f\"{(movies_detect_red.descripcion_idioma.value_counts().en)/len(movies_detect_red):.0%}\"))\n",
    "print('% de películas con la descripción en español: '+ str(f\"{(movies_detect_red.descripcion_idioma.value_counts().es)/len(movies_detect_red):.0%}\"))"
   ]
  },
  {
   "cell_type": "code",
   "execution_count": 61,
   "metadata": {},
   "outputs": [
    {
     "data": {
      "text/plain": [
       "<matplotlib.axes._subplots.AxesSubplot at 0x1edc307f760>"
      ]
     },
     "execution_count": 61,
     "metadata": {},
     "output_type": "execute_result"
    },
    {
     "data": {
      "image/png": "[encoded data removed]",
      "text/plain": [
       "<Figure size 576x432 with 1 Axes>"
      ]
     },
     "metadata": {
      "needs_background": "light"
     },
     "output_type": "display_data"
    }
   ],
   "source": [
    "# visualizamos idiomas en el dataset reducido\n",
    "movies_detect_red.descripcion_idioma.value_counts().plot(kind='bar', figsize=(8, 6))"
   ]
  },
  {
   "cell_type": "code",
   "execution_count": null,
   "metadata": {},
   "outputs": [],
   "source": []
  }
 ],
 "metadata": {
  "kernelspec": {
   "display_name": "Python 3",
   "language": "python",
   "name": "python3"
  },
  "language_info": {
   "codemirror_mode": {
    "name": "ipython",
    "version": 3
   },
   "file_extension": ".py",
   "mimetype": "text/x-python",
   "name": "python",
   "nbconvert_exporter": "python",
   "pygments_lexer": "ipython3",
   "version": "3.8.3"
  }
 },
 "nbformat": 4,
 "nbformat_minor": 4
}
