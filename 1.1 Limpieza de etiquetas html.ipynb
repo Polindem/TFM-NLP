{
 "cells": [
  {
   "cell_type": "markdown",
   "id": "71467e53",
   "metadata": {},
   "source": [
    "### Instalación de librerias"
   ]
  },
  {
   "cell_type": "code",
   "execution_count": 5,
   "id": "5e416764",
   "metadata": {},
   "outputs": [],
   "source": [
    "#Instalación de libreria\n",
    "#!pip install contractions"
   ]
  },
  {
   "cell_type": "markdown",
   "id": "c072c540",
   "metadata": {},
   "source": [
    "### Importar librerias"
   ]
  },
  {
   "cell_type": "code",
   "execution_count": 3,
   "id": "ab1f17a6",
   "metadata": {},
   "outputs": [],
   "source": [
    "import contractions\n",
    "import pandas as pd"
   ]
  },
  {
   "cell_type": "markdown",
   "id": "6f44bce3",
   "metadata": {},
   "source": [
    "#### Leer archivo Csv"
   ]
  },
  {
   "cell_type": "code",
   "execution_count": 6,
   "id": "66bbd8b3",
   "metadata": {},
   "outputs": [],
   "source": [
    "#Archivo Input\n",
    "name_file = 'movies_Ruben'\n",
    "ext_file = '.csv'\n",
    "name_file_input = name_file + ext_file  #Arma nombre de archivo\n",
    "df_films = pd.read_csv(name_file_input) #Carga la data de las peliculas en un Dataframe"
   ]
  },
  {
   "cell_type": "markdown",
   "id": "af09b56f",
   "metadata": {},
   "source": [
    "#### Declara funciones"
   ]
  },
  {
   "cell_type": "code",
   "execution_count": 7,
   "id": "a6eae047",
   "metadata": {},
   "outputs": [],
   "source": [
    "def reemplaza_caracteres(texto):\n",
    "    cadena1 = texto.replace(\"“\", '\"').replace(\"”\", '\"').replace(\"‘\", \"'\").replace(\"’\", \"'\").replace(\"'s\", \"s\")\n",
    "    cadena2 = cadena1.replace(\"'\", \"\").replace('\"', \"\")\n",
    "    return cadena2\n",
    "\n",
    "def extrae_html(texto):\n",
    "    try:\n",
    "        pos = texto.index('<!--') #busca la etiqueta <!--\n",
    "        cadena = texto[0:pos] #extrae parte de la cadena\n",
    "    except ValueError:\n",
    "        cadena = texto\n",
    "    return cadena"
   ]
  },
  {
   "cell_type": "markdown",
   "id": "2d2391bc",
   "metadata": {},
   "source": [
    "#### Procesamiento"
   ]
  },
  {
   "cell_type": "code",
   "execution_count": 8,
   "id": "08ed3237",
   "metadata": {},
   "outputs": [
    {
     "name": "stdout",
     "output_type": "stream",
     "text": [
      "*****************************************\n",
      "******* Fin de proceso de limpieza ******\n",
      "*****************************************\n",
      "\n",
      "Número de registros con descripción: 71316\n",
      "Número de registros sin descripción: 43913\n",
      "Número total de registros          : 115229\n"
     ]
    }
   ],
   "source": [
    "numreg_tot = 0\n",
    "numreg_condescrip = 0\n",
    "numreg_sindescrip = 0\n",
    "#Crea dataframe temporal\n",
    "df_temporal = pd.DataFrame()\n",
    "df_temporal['titulo'] = ''\n",
    "df_temporal['link'] = ''\n",
    "df_temporal['descripcion'] = ''\n",
    "#Lee dataframe de peliculas y limpia registros\n",
    "for index, row in df_films.iterrows():\n",
    "    xtitulo = row['titulo']\n",
    "    xlink = row['link']\n",
    "    xdescripcion = row['descripcion']\n",
    "    if not pd.isna(xdescripcion): #Verifica si tiene descripción\n",
    "        descripcion = row['descripcion']\n",
    "        posicion = 0\n",
    "        try:\n",
    "            posicion = descripcion.index('Synopsis') #busca texto \"Synopsis\" para quitarlo\n",
    "        except ValueError:\n",
    "            posicion = 0\n",
    "            \n",
    "        if posicion == 0:\n",
    "            #Llama a función que reemplaza caracteres\n",
    "            descrip_limpia1 = contractions.fix(descripcion)\n",
    "            #Llama a función que expande contracciones a las descripciones en inglés\n",
    "            descrip_limpia2 = reemplaza_caracteres(descrip_limpia1)\n",
    "            #Llama a función que extrae etiquetas html\n",
    "            descrip_limpia3 = extrae_html(descrip_limpia2)\n",
    "            #Agrega registros al dataframe temporal para almacenar los registros que se van leyendo\n",
    "            df_temporal = df_temporal.append({'titulo' : xtitulo, 'link' : xlink, 'descripcion' : descrip_limpia3} , ignore_index=True)\n",
    "        numreg_condescrip = numreg_condescrip + 1\n",
    "    else:\n",
    "        numreg_sindescrip = numreg_sindescrip + 1\n",
    "        \n",
    "    numreg_tot = numreg_tot + 1 \n",
    "#Exporta dataframe temporal a csv\n",
    "name_file_output = name_file + '_limpio' + ext_file \n",
    "df_temporal.to_csv(name_file_output, encoding='utf-8-sig')\n",
    "print('*****************************************')\n",
    "print('******* Fin de proceso de limpieza ******')\n",
    "print('*****************************************')\n",
    "print('')\n",
    "print('Número de registros con descripción: ' + str(numreg_condescrip))\n",
    "print('Número de registros sin descripción: ' + str(numreg_sindescrip))\n",
    "print('Número total de registros          : ' + str(numreg_tot))"
   ]
  },
  {
   "cell_type": "code",
   "execution_count": null,
   "id": "60b44e62",
   "metadata": {},
   "outputs": [],
   "source": []
  }
 ],
 "metadata": {
  "kernelspec": {
   "display_name": "Python 3 (ipykernel)",
   "language": "python",
   "name": "python3"
  },
  "language_info": {
   "codemirror_mode": {
    "name": "ipython",
    "version": 3
   },
   "file_extension": ".py",
   "mimetype": "text/x-python",
   "name": "python",
   "nbconvert_exporter": "python",
   "pygments_lexer": "ipython3",
   "version": "3.9.7"
  }
 },
 "nbformat": 4,
 "nbformat_minor": 5
}
